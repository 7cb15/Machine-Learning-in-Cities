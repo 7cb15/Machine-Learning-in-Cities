{
 "cells": [
  {
   "cell_type": "code",
   "execution_count": 1,
   "metadata": {},
   "outputs": [],
   "source": [
    "import numpy as np\n",
    "import pandas as pd\n",
    "import matplotlib.pyplot as plt\n",
    "from matplotlib import rcParams\n",
    "from sklearn import svm\n",
    "import math"
   ]
  },
  {
   "cell_type": "markdown",
   "metadata": {},
   "source": [
    "## NaiveBayes implementation in Sklearn to analyze diabetes risk."
   ]
  },
  {
   "cell_type": "code",
   "execution_count": 3,
   "metadata": {},
   "outputs": [
    {
     "name": "stdout",
     "output_type": "stream",
     "text": [
      "   t_pre    glu  blood_p  triceps  serum   b_m  pedigree_f   age\n",
      "0    3.0  158.0     64.0     13.0  387.0  31.2       0.295  24.0\n",
      "1    0.0   84.0     64.0     22.0   66.0  35.8       0.545  21.0\n",
      "2    9.0  120.0     72.0     22.0   56.0  20.8       0.733  48.0\n",
      "3    4.0  110.0     76.0     20.0  100.0  28.4       0.118  27.0\n",
      "4    2.0  100.0     66.0     20.0   90.0  32.9       0.867  28.0\n"
     ]
    }
   ],
   "source": [
    "# Training data\n",
    "data_train=pd.read_csv(\"HW2_task4_train.csv\") \n",
    "y_train=data_train.iloc[:,1] \n",
    "X_train=data_train.iloc[:,2:] \n",
    "\n",
    "# Testing data\n",
    "data_test=pd.read_csv(\"HW2_task4_test.csv\")\n",
    "y_test=data_test.iloc[:,1]\n",
    "X_test=data_test.iloc[:,2:]\n",
    "\n",
    "print(X_train.head())"
   ]
  },
  {
   "cell_type": "code",
   "execution_count": 5,
   "metadata": {},
   "outputs": [
    {
     "data": {
      "text/plain": [
       "GaussianNB(priors=None, var_smoothing=1e-09)"
      ]
     },
     "execution_count": 5,
     "metadata": {},
     "output_type": "execute_result"
    }
   ],
   "source": [
    "#train classifier\n",
    "from sklearn.naive_bayes import GaussianNB\n",
    "\n",
    "gnb = GaussianNB()\n",
    "gnb.fit(X_train,y_train)"
   ]
  },
  {
   "cell_type": "code",
   "execution_count": 8,
   "metadata": {},
   "outputs": [
    {
     "name": "stdout",
     "output_type": "stream",
     "text": [
      "In sample accuracy score = 0.7584745762711864\n",
      "Out of sample accuracy score = 0.7911392405063291\n"
     ]
    }
   ],
   "source": [
    "print(\"In sample accuracy score = {}\".format(gnb.score(X_train,y_train)))\n",
    "print(\"Out of sample accuracy score = {}\".format(gnb.score(X_test,y_test)))"
   ]
  },
  {
   "cell_type": "code",
   "execution_count": 17,
   "metadata": {},
   "outputs": [
    {
     "name": "stdout",
     "output_type": "stream",
     "text": [
      "The prior probability of diabetes (i.e. y-train class probability) is = 30.08474576271186%\n"
     ]
    }
   ],
   "source": [
    "print(\"The prior probability of diabetes (i.e. y-train class probability) is = {}%\"\n",
    "      .format(gnb.class_prior_[1] * 100))"
   ]
  },
  {
   "cell_type": "markdown",
   "metadata": {},
   "source": [
    "### Mean and variance of patients with diabetes by factor"
   ]
  },
  {
   "cell_type": "code",
   "execution_count": 43,
   "metadata": {},
   "outputs": [
    {
     "name": "stdout",
     "output_type": "stream",
     "text": [
      "variance of t_pre for patients with diabetes = 12.206320287887335\n",
      "variance of glu for patients with diabetes = 924.7689070762225\n",
      "variance of blood_p for patients with diabetes = 187.7389527020909\n",
      "variance of triceps for patients with diabetes = 93.96787553486216\n",
      "variance of serum for patients with diabetes = 15882.053969563818\n",
      "variance of b_m for patients with diabetes = 38.61704435057331\n",
      "variance of pedigree_f for patients with diabetes = 0.190055013933758\n",
      "variance of age for patients with diabetes = 103.8567864652331\n"
     ]
    }
   ],
   "source": [
    "for j in range(len(X_train.columns)):\n",
    "    print(\"variance of {} for patients with diabetes = {}\"\n",
    "          .format(X_train.columns[j],gnb.sigma_[1][j]))"
   ]
  },
  {
   "cell_type": "code",
   "execution_count": 44,
   "metadata": {
    "scrolled": true
   },
   "outputs": [
    {
     "name": "stdout",
     "output_type": "stream",
     "text": [
      "mean value of t_pre for patients with diabetes = 4.070422535211268\n",
      "mean value of glu for patients with diabetes = 144.14084507042253\n",
      "mean value of blood_p for patients with diabetes = 74.56338028169014\n",
      "mean value of triceps for patients with diabetes = 33.478873239436616\n",
      "mean value of serum for patients with diabetes = 209.2112676056338\n",
      "mean value of b_m for patients with diabetes = 35.22394366197182\n",
      "mean value of pedigree_f for patients with diabetes = 0.6390422535211271\n",
      "mean value of age for patients with diabetes = 35.7887323943662\n"
     ]
    }
   ],
   "source": [
    "for j in range(len(X_train.columns)):\n",
    "    print(\"mean value of {} for patients with diabetes = {}\"\n",
    "          .format(X_train.columns[j],gnb.theta_[1][j]))"
   ]
  },
  {
   "cell_type": "markdown",
   "metadata": {},
   "source": [
    "### Mean and Variance analysis for patients without diabetes, by factor"
   ]
  },
  {
   "cell_type": "code",
   "execution_count": 45,
   "metadata": {},
   "outputs": [
    {
     "name": "stdout",
     "output_type": "stream",
     "text": [
      "variance of t_pre for patients without diabetes = 6.771141492303129\n",
      "variance of glu for patients without diabetes = 605.9943554500628\n",
      "variance of blood_p for patients without diabetes = 136.36967225447037\n",
      "variance of triceps for patients without diabetes = 108.26910292481006\n",
      "variance of serum for patients without diabetes = 8318.987854072659\n",
      "variance of b_m for patients without diabetes = 39.921929371091004\n",
      "variance of pedigree_f for patients without diabetes = 0.0846144012471254\n",
      "variance of age for patients without diabetes = 72.44482376962172\n"
     ]
    }
   ],
   "source": [
    "for j in range(len(X_train.columns)):\n",
    "    print(\"variance of {} for patients without diabetes = {}\"\n",
    "          .format(X_train.columns[j],gnb.sigma_[0][j]))"
   ]
  },
  {
   "cell_type": "code",
   "execution_count": 46,
   "metadata": {},
   "outputs": [
    {
     "name": "stdout",
     "output_type": "stream",
     "text": [
      "mean value of t_pre for patients with diabetes = 2.690909090909091\n",
      "mean value of glu for patients with diabetes = 111.46666666666667\n",
      "mean value of blood_p for patients with diabetes = 69.2060606060606\n",
      "mean value of triceps for patients with diabetes = 27.2\n",
      "mean value of serum for patients with diabetes = 127.0060606060606\n",
      "mean value of b_m for patients with diabetes = 31.709090909090893\n",
      "mean value of pedigree_f for patients with diabetes = 0.46868484848484815\n",
      "mean value of age for patients with diabetes = 28.393939393939394\n"
     ]
    }
   ],
   "source": [
    "for j in range(len(X_train.columns)):\n",
    "    print(\"mean value of {} for patients with diabetes = {}\"\n",
    "          .format(X_train.columns[j],gnb.theta_[0][j]))"
   ]
  },
  {
   "cell_type": "markdown",
   "metadata": {},
   "source": [
    "## Supervised and Semi-Supervised NB implementation"
   ]
  },
  {
   "cell_type": "code",
   "execution_count": 15,
   "metadata": {
    "scrolled": false
   },
   "outputs": [
    {
     "name": "stdout",
     "output_type": "stream",
     "text": [
      "   0  1  2\n",
      "0  4  6  6\n",
      "1  2  2  2\n",
      "2  2  6  2\n",
      "3  6  6  6\n",
      "4  1  2  2\n",
      "5  3  4  4\n",
      "6  6  1  6\n",
      "7  1  3  1\n",
      "8  5  1  6\n",
      "0    0\n",
      "1    1\n",
      "2    0\n",
      "3    0\n",
      "4    1\n",
      "5    0\n",
      "6    0\n",
      "7    1\n",
      "8    1\n",
      "Name: y, dtype: int64\n"
     ]
    }
   ],
   "source": [
    "data_train=pd.read_csv(\"HW2_task5_train.csv\")\n",
    "y_Labeled_train=data_train.iloc[:,1] \n",
    "X_Labeled_train=data_train.iloc[:,2:] \n",
    "\n",
    "data_test=pd.read_csv(\"HW2_task5_test.csv\")\n",
    "y_Labeled_test=data_test.iloc[:,1]\n",
    "X_Labeled_test=data_test.iloc[:,2:]\n",
    "\n",
    "data_Unlabeled=pd.read_csv(\"HW2_task5_unlabeled.csv\")\n",
    "X_Unlabeled_train=data_Unlabeled.iloc[:,1:]\n",
    "\n",
    "print(X_Labeled_train)\n",
    "print(y_Labeled_train)"
   ]
  },
  {
   "cell_type": "markdown",
   "metadata": {},
   "source": [
    "### Supervised Multi-nomial NB"
   ]
  },
  {
   "cell_type": "markdown",
   "metadata": {},
   "source": [
    "First I'm experimenting with an Sklearn package that is suitable for discrete naive bayes problems and then I use a UDF."
   ]
  },
  {
   "cell_type": "code",
   "execution_count": 50,
   "metadata": {},
   "outputs": [],
   "source": [
    "from sklearn.naive_bayes import MultinomialNB"
   ]
  },
  {
   "cell_type": "code",
   "execution_count": 51,
   "metadata": {},
   "outputs": [
    {
     "name": "stdout",
     "output_type": "stream",
     "text": [
      "Out of sample labeled classification accuracy: 0.5\n"
     ]
    }
   ],
   "source": [
    "discrete_nb = MultinomialNB()\n",
    "discrete_nb.fit(X_Labeled_train,y_Labeled_train)\n",
    "print(\"Out of sample labeled classification accuracy: {}\"\n",
    "      .format(discrete_nb.score(X_Labeled_test,y_Labeled_test)))"
   ]
  },
  {
   "cell_type": "markdown",
   "metadata": {},
   "source": [
    "#### Below is a UDF version of NB"
   ]
  },
  {
   "cell_type": "code",
   "execution_count": 17,
   "metadata": {},
   "outputs": [],
   "source": [
    "# Training a binary Naive Bayes Classifier with discrete input attributes.\n",
    "# Assume that the binary output variable takes on values 0 or 1. \n",
    "def trainNaiveBayesDiscrete(X,y):\n",
    "    prior = 1.*y.sum()/y.count()\n",
    "    nbc = {'prior':prior}\n",
    "    X_1 = X[y==1]\n",
    "    X_0 = X[y==0]\n",
    "    for j in X.columns:\n",
    "        nbc[j+'_1'] = X_1[j].value_counts(normalize=True)\n",
    "        nbc[j+'_0'] = X_0[j].value_counts(normalize=True)\n",
    "    return nbc\n",
    "\n",
    "def testNaiveBayesDiscrete(X,nbc):\n",
    "    y_pred = pd.Series(index=X.index)\n",
    "    for i in X.index:\n",
    "        # compute odds of y=1\n",
    "        y_pred[i] = nbc['prior']/(1-nbc['prior']) # prior odds\n",
    "        for j in X.columns:\n",
    "            thevalue = X.loc[i,j]\n",
    "            if thevalue not in nbc[j+'_1']:\n",
    "                y_pred[i] = y_pred[i]*1E-3\n",
    "            if thevalue not in nbc[j+'_0']:\n",
    "                y_pred[i] = y_pred[i]*1E3\n",
    "            if (thevalue in nbc[j+'_1']) & (thevalue in nbc[j+'_0']):\n",
    "                y_pred[i] = y_pred[i]*(nbc[j+'_1'][thevalue]+1E-3)/(nbc[j+'_0'][thevalue]+1E-3)\n",
    "        # convert odds to probability of y=1\n",
    "        y_pred[i] = y_pred[i]/(1.0+y_pred[i])\n",
    "    return y_pred"
   ]
  },
  {
   "cell_type": "code",
   "execution_count": 57,
   "metadata": {},
   "outputs": [
    {
     "name": "stdout",
     "output_type": "stream",
     "text": [
      "Out of sample prediction accuracy: 0.6944444444444444\n"
     ]
    }
   ],
   "source": [
    "naive_bayes_classifier = trainNaiveBayesDiscrete(X_Labeled_train,y_Labeled_train)\n",
    "y_pred_test = testNaiveBayesDiscrete(X_Labeled_test,naive_bayes_classifier)\n",
    "\n",
    "# measure accuracy for the binary prediction task\n",
    "print('Out of sample prediction accuracy:',\n",
    "      1.0*sum((y_pred_test>0.5)==y_Labeled_test)/len(y_Labeled_test))"
   ]
  },
  {
   "cell_type": "markdown",
   "metadata": {},
   "source": [
    "### Semi-Supervised"
   ]
  },
  {
   "cell_type": "code",
   "execution_count": 18,
   "metadata": {},
   "outputs": [],
   "source": [
    "def initializeNaiveBayesRandom(X_Unlabeled):\n",
    "    nbc = {'prior':0.5}\n",
    "    for j in X_Unlabeled.columns:\n",
    "        thevalues = X_Unlabeled[j].unique()\n",
    "        nbc[j+'_1'] = {}\n",
    "        nbc[j+'_0'] = {}\n",
    "        for jj in thevalues:\n",
    "            nbc[j+'_1'][jj] = np.random.rand()\n",
    "            nbc[j+'_0'][jj] = np.random.rand()\n",
    "    return nbc\n",
    "    \n",
    "def EM(X_Labeled,y_Labeled,X_Unlabeled,num_iters):\n",
    "    # initialize\n",
    "    t = 0\n",
    "    if len(y_Labeled) > 0:\n",
    "        nbc = trainNaiveBayesDiscrete(X_Labeled,y_Labeled)\n",
    "    else:\n",
    "        nbc = initializeNaiveBayesRandom(X_Unlabeled)\n",
    "    \n",
    "    while True:\n",
    "        t = t + 1\n",
    "        print('Iteration',t,'of',num_iters)\n",
    "        \n",
    "        # E step - classify with nbc for unlabeled data only\n",
    "        y_pred_Unlabeled = testNaiveBayesDiscrete(X_Unlabeled,nbc)\n",
    "        \n",
    "        # M step\n",
    "        X_for_M_step = pd.concat([X_Labeled,X_Unlabeled],ignore_index=True) \n",
    "        y_for_M_step = pd.concat([y_Labeled,y_pred_Unlabeled],ignore_index=True)\n",
    "        prior = 1.*y_for_M_step.sum()/y_for_M_step.count()\n",
    "        nbc = {'prior':prior}\n",
    "        for j in X_for_M_step.columns:\n",
    "            nbc[j+'_1'] = {}\n",
    "            nbc[j+'_0'] = {}\n",
    "            for theindex in X_for_M_step.index:\n",
    "                current_X = X_for_M_step.loc[theindex,j]\n",
    "                current_y = y_for_M_step.loc[theindex]\n",
    "                if current_X in nbc[j+'_1']:\n",
    "                    nbc[j+'_1'][current_X] += current_y\n",
    "                else:\n",
    "                    nbc[j+'_1'][current_X] = current_y\n",
    "                if current_X in nbc[j+'_0']:\n",
    "                    nbc[j+'_0'][current_X] += (1.0-current_y)\n",
    "                else:\n",
    "                    nbc[j+'_0'][current_X] = 1.0-current_y\n",
    "            # normalize probabilities\n",
    "            tempsum = 0.0\n",
    "            for k in nbc[j+'_1']:\n",
    "                tempsum += nbc[j+'_1'][k]\n",
    "            for k in nbc[j+'_1']:\n",
    "                nbc[j+'_1'][k] /= tempsum\n",
    "            tempsum = 0.0\n",
    "            for k in nbc[j+'_0']:\n",
    "                tempsum += nbc[j+'_0'][k]\n",
    "            for k in nbc[j+'_0']:\n",
    "                nbc[j+'_0'][k] /= tempsum            \n",
    "                       \n",
    "        if t==num_iters:\n",
    "            break\n",
    "            \n",
    "    return nbc"
   ]
  },
  {
   "cell_type": "code",
   "execution_count": 20,
   "metadata": {},
   "outputs": [
    {
     "name": "stdout",
     "output_type": "stream",
     "text": [
      "Iteration 1 of 10\n",
      "Iteration 2 of 10\n",
      "Iteration 3 of 10\n",
      "Iteration 4 of 10\n",
      "Iteration 5 of 10\n",
      "Iteration 6 of 10\n",
      "Iteration 7 of 10\n",
      "Iteration 8 of 10\n",
      "Iteration 9 of 10\n",
      "Iteration 10 of 10\n",
      "Out of sample prediction accuracy: 0.9444444444444444\n"
     ]
    }
   ],
   "source": [
    "semi_supervised = EM(X_Labeled_train,y_Labeled_train,X_Unlabeled_train,10)\n",
    "y_pred_test = testNaiveBayesDiscrete(X_Labeled_test,semi_supervised)\n",
    "print('Out of sample prediction accuracy:',\n",
    "      1.0*sum((y_pred_test>0.5)==y_Labeled_test)/len(y_Labeled_test))"
   ]
  },
  {
   "cell_type": "code",
   "execution_count": null,
   "metadata": {},
   "outputs": [],
   "source": []
  }
 ],
 "metadata": {
  "kernelspec": {
   "display_name": "ADS",
   "language": "python",
   "name": "ads"
  },
  "language_info": {
   "codemirror_mode": {
    "name": "ipython",
    "version": 3
   },
   "file_extension": ".py",
   "mimetype": "text/x-python",
   "name": "python",
   "nbconvert_exporter": "python",
   "pygments_lexer": "ipython3",
   "version": "3.5.0"
  }
 },
 "nbformat": 4,
 "nbformat_minor": 1
}
