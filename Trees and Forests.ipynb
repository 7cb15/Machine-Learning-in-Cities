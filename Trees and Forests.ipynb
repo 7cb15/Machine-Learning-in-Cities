{
 "cells": [
  {
   "cell_type": "markdown",
   "metadata": {},
   "source": [
    "## Comparing Performance of Decision Trees and Random Forests Using Health Data\n",
    "\n",
    "Simple sklearn implementation of decision trees and random forest classifiers on a country level data set that includes a number of public health features."
   ]
  },
  {
   "cell_type": "code",
   "execution_count": 1,
   "metadata": {},
   "outputs": [],
   "source": [
    "import pandas as pd\n",
    "import numpy as np\n",
    "import io\n",
    "from sklearn.model_selection import train_test_split\n",
    "from sklearn.tree import DecisionTreeClassifier\n",
    "from sklearn.metrics import accuracy_score\n",
    "from sklearn.ensemble import RandomForestClassifier\n",
    "from sklearn.model_selection import GridSearchCV\n",
    "import matplotlib.pylab as plt\n",
    "\n",
    "import warnings\n",
    "warnings.filterwarnings(\"ignore\", category=DeprecationWarning) \n",
    "\n",
    "%pylab inline"
   ]
  },
  {
   "cell_type": "code",
   "execution_count": 32,
   "metadata": {
    "scrolled": true
   },
   "outputs": [
    {
     "data": {
      "text/html": [
       "<div>\n",
       "<style scoped>\n",
       "    .dataframe tbody tr th:only-of-type {\n",
       "        vertical-align: middle;\n",
       "    }\n",
       "\n",
       "    .dataframe tbody tr th {\n",
       "        vertical-align: top;\n",
       "    }\n",
       "\n",
       "    .dataframe thead th {\n",
       "        text-align: right;\n",
       "    }\n",
       "</style>\n",
       "<table border=\"1\" class=\"dataframe\">\n",
       "  <thead>\n",
       "    <tr style=\"text-align: right;\">\n",
       "      <th></th>\n",
       "      <th>Country</th>\n",
       "      <th>FrxnPeaceIn10</th>\n",
       "      <th>ODA4H2OPcptaDol</th>\n",
       "      <th>RenewResm3PcptaYr</th>\n",
       "      <th>SustAccImprWatRur</th>\n",
       "      <th>SustAccImprWatUrb</th>\n",
       "      <th>SustAccImprSanRur</th>\n",
       "      <th>SustAccImprSanUrb</th>\n",
       "      <th>TotHlthExpPctofGDP</th>\n",
       "      <th>GenGovtPctofTotHlthExp</th>\n",
       "      <th>ExtResHlthPctTotExpHlth</th>\n",
       "      <th>PCptaGovtExpHlthAvgExcRt</th>\n",
       "      <th>GDPPCptaIntDol</th>\n",
       "      <th>AdultLtrcyRate</th>\n",
       "      <th>FemaleLtrcyRate</th>\n",
       "      <th>BurdenOfDisease</th>\n",
       "    </tr>\n",
       "  </thead>\n",
       "  <tbody>\n",
       "    <tr>\n",
       "      <th>0</th>\n",
       "      <td>Afghanistan</td>\n",
       "      <td>0.1</td>\n",
       "      <td>0.16</td>\n",
       "      <td>2986</td>\n",
       "      <td>0.10891</td>\n",
       "      <td>0.18812</td>\n",
       "      <td>0.049505</td>\n",
       "      <td>0.15842</td>\n",
       "      <td>0.065</td>\n",
       "      <td>0.395</td>\n",
       "      <td>0.4560</td>\n",
       "      <td>4</td>\n",
       "      <td>430</td>\n",
       "      <td>0.35644</td>\n",
       "      <td>0.20792</td>\n",
       "      <td>awful</td>\n",
       "    </tr>\n",
       "    <tr>\n",
       "      <th>1</th>\n",
       "      <td>Albania</td>\n",
       "      <td>1.0</td>\n",
       "      <td>5.58</td>\n",
       "      <td>13306</td>\n",
       "      <td>0.94059</td>\n",
       "      <td>0.98020</td>\n",
       "      <td>0.801980</td>\n",
       "      <td>0.98020</td>\n",
       "      <td>0.065</td>\n",
       "      <td>0.417</td>\n",
       "      <td>0.0340</td>\n",
       "      <td>49</td>\n",
       "      <td>6158</td>\n",
       "      <td>0.85644</td>\n",
       "      <td>0.78713</td>\n",
       "      <td>low</td>\n",
       "    </tr>\n",
       "    <tr>\n",
       "      <th>2</th>\n",
       "      <td>Algeria</td>\n",
       "      <td>0.0</td>\n",
       "      <td>0.33</td>\n",
       "      <td>473</td>\n",
       "      <td>0.79208</td>\n",
       "      <td>0.91089</td>\n",
       "      <td>0.811880</td>\n",
       "      <td>0.98020</td>\n",
       "      <td>0.041</td>\n",
       "      <td>0.808</td>\n",
       "      <td>0.0005</td>\n",
       "      <td>71</td>\n",
       "      <td>4860</td>\n",
       "      <td>0.69307</td>\n",
       "      <td>0.60396</td>\n",
       "      <td>high</td>\n",
       "    </tr>\n",
       "  </tbody>\n",
       "</table>\n",
       "</div>"
      ],
      "text/plain": [
       "       Country  FrxnPeaceIn10  ODA4H2OPcptaDol  RenewResm3PcptaYr  \\\n",
       "0  Afghanistan            0.1             0.16               2986   \n",
       "1      Albania            1.0             5.58              13306   \n",
       "2      Algeria            0.0             0.33                473   \n",
       "\n",
       "   SustAccImprWatRur  SustAccImprWatUrb  SustAccImprSanRur  SustAccImprSanUrb  \\\n",
       "0            0.10891            0.18812           0.049505            0.15842   \n",
       "1            0.94059            0.98020           0.801980            0.98020   \n",
       "2            0.79208            0.91089           0.811880            0.98020   \n",
       "\n",
       "   TotHlthExpPctofGDP  GenGovtPctofTotHlthExp  ExtResHlthPctTotExpHlth  \\\n",
       "0               0.065                   0.395                   0.4560   \n",
       "1               0.065                   0.417                   0.0340   \n",
       "2               0.041                   0.808                   0.0005   \n",
       "\n",
       "   PCptaGovtExpHlthAvgExcRt  GDPPCptaIntDol  AdultLtrcyRate  FemaleLtrcyRate  \\\n",
       "0                         4             430         0.35644          0.20792   \n",
       "1                        49            6158         0.85644          0.78713   \n",
       "2                        71            4860         0.69307          0.60396   \n",
       "\n",
       "  BurdenOfDisease  \n",
       "0           awful  \n",
       "1             low  \n",
       "2            high  "
      ]
     },
     "execution_count": 32,
     "metadata": {},
     "output_type": "execute_result"
    }
   ],
   "source": [
    "#read in data\n",
    "data = pd.read_csv(\"Burden of diarrheal illness by country.csv\")\n",
    "data.head(3)"
   ]
  },
  {
   "cell_type": "markdown",
   "metadata": {},
   "source": [
    "### Data dictionary\n",
    "\n",
    "NAME: Burden of diarrheal illness by country\n",
    "\n",
    "SIZE: 130 Countries, 16 Variables\n",
    "\n",
    "VARIABLE DESCRIPTIONS:\n",
    "\n",
    "Country: Country name\n",
    "\n",
    "FrxnPeaceIn10: Fraction of the past ten years in which a country has been at peace \n",
    "\n",
    "ODA4H2OPcptaDol: Per Capita Official Developmental Assistance for water projects\n",
    "\n",
    "RenewResm3PcptaYr: Renewable Water Resources in cubic meters per capita per year\n",
    "\n",
    "SustAccImprWatRur: Fraction of rural population with sustainable access to improved water\n",
    "\n",
    "SustAccImprWatUrb: Fraction of urban population with sustainable access to improved water\n",
    "\n",
    "SustAccImprSanRur: Fraction of rural population with sustainable access to improved sanitation\n",
    "\n",
    "SustAccImprSanUrb: Fraction of urban population with sustainable access to improved sanitation\n",
    "\n",
    "TotHlthExpPctofGDP: Fraction of a country's GDP devoted to health spending\n",
    "\n",
    "GenGovtPctofTotHlthExp: The fraction of total health expenditures for a country which is provided by the government\n",
    "\n",
    "ExtResHlthPctTotExpHlth: The fraction of total health expenditures for a country which is comes from sources external to the country\n",
    "\n",
    "PCptaGovtExpHlthAvgExcRt: Per Capita Government Health Expenditures at the average exchange rate\n",
    "\n",
    "GDPPCptaIntDol: Gross Domestic Product per capita in international dollars\n",
    "\n",
    "AdultLtrcyRate: Adult Literacy rate\n",
    "\n",
    "FemaleLtrcyRate: Female Literacy rate\n",
    "\n",
    "BurdenOfDisease: Our target variable for classification.  The burden of disease due to diarrheal illness, categorized into \"low\", \"medium\", \"high\", and \"awful\" quartiles.  For each country, we have estimates of the number of Disability-Adjusted Life Years lost per 1000 persons per year (DALYs) due to diarrheal illness.  Countries with \"low\" burden of disease have up to 2.75345 DALYs; countries with \"medium\" burden of disease have between 2.75345 and 8.2127 DALYs; countries with \"high\" burden of disease have between 8.2127 and 26.699 DALYs; and countries with \"awful\" burden of diease have more than 26.699 DALYs."
   ]
  },
  {
   "cell_type": "code",
   "execution_count": 33,
   "metadata": {},
   "outputs": [],
   "source": [
    "#initalize a classifier\n",
    "dtc = DecisionTreeClassifier(max_leaf_nodes=3)"
   ]
  },
  {
   "cell_type": "code",
   "execution_count": 34,
   "metadata": {},
   "outputs": [],
   "source": [
    "# pre-processing data\n",
    "#convert target variable to numeric for input into sklearn\n",
    "number_dict = {\"low\":1,'medium':2,'high':3,'awful':4}\n",
    "data['BurdenOfDisease'].replace(number_dict,inplace=True)\n",
    "\n",
    "#drop the country column since we don't use it\n",
    "data.drop(['Country'],axis=1,inplace=True)"
   ]
  },
  {
   "cell_type": "code",
   "execution_count": 35,
   "metadata": {},
   "outputs": [],
   "source": [
    "#set x and y and establish train-test-split\n",
    "y = data['BurdenOfDisease']\n",
    "X = data.iloc[:,:-1]\n",
    "\n",
    "#get training, validation, and test sets\n",
    "X_train, X_test, y_train, y_test = train_test_split(X,y,test_size=0.3)"
   ]
  },
  {
   "cell_type": "code",
   "execution_count": 37,
   "metadata": {},
   "outputs": [
    {
     "name": "stdout",
     "output_type": "stream",
     "text": [
      "In-sample accuracy score: 0.6263736263736264\n",
      "Out of sample accuracy score: 0.358974358974359\n"
     ]
    }
   ],
   "source": [
    "#fit the classifier to the test data and report accuracy of the predictions\n",
    "dtc.fit(X_train,y_train)\n",
    "y_preds = dtc.predict(X_test)\n",
    "print(\"In-sample accuracy score: {}\".format(dtc.score(X_train,y_train)))\n",
    "print(\"Out of sample accuracy score: {}\".format(accuracy_score(y_test,y_preds)))"
   ]
  },
  {
   "cell_type": "markdown",
   "metadata": {},
   "source": [
    "b) Make a plot of accuracy vs. simplicity for different values of the hyper-parameter chosen in part a). That is, the x-axis should be hyper-parameter value (e.g. tree depth) and the y-axis should be accuracy. (10 pts)"
   ]
  },
  {
   "cell_type": "code",
   "execution_count": 38,
   "metadata": {},
   "outputs": [],
   "source": [
    "#initialize iterators\n",
    "max_leaf_nodes = [x for x in range(2,100)]\n",
    "scores = []\n",
    "\n",
    "#loop through the depth parameter range and append accuracy scores to scores list\n",
    "for i in max_leaf_nodes:\n",
    "    dtc.set_params(max_leaf_nodes=i)\n",
    "    dtc.fit(X_train,y_train)\n",
    "    scores.append(accuracy_score(y_test,dtc.predict(X_test)))"
   ]
  },
  {
   "cell_type": "code",
   "execution_count": 39,
   "metadata": {
    "scrolled": true
   },
   "outputs": [],
   "source": [
    "d = {'max_leaf_nodes':max_leaf_nodes,'accuracy_score':scores}\n",
    "hyper = pd.DataFrame(d)"
   ]
  },
  {
   "cell_type": "code",
   "execution_count": 40,
   "metadata": {},
   "outputs": [
    {
     "data": {
      "text/plain": [
       "(0.3, 0.8)"
      ]
     },
     "execution_count": 40,
     "metadata": {},
     "output_type": "execute_result"
    },
    {
     "data": {
      "image/png": "[encoded data removed]",
      "text/plain": [
       "<Figure size 720x720 with 1 Axes>"
      ]
     },
     "metadata": {
      "needs_background": "light"
     },
     "output_type": "display_data"
    }
   ],
   "source": [
    "#plot the results of the \n",
    "fig = plt.figure(figsize=(10,10))\n",
    "ax = fig.add_subplot(111)\n",
    "\n",
    "ax.plot(hyper['accuracy_score'])\n",
    "\n",
    "ax.set_xlabel(\"Number of Max Leaf Nodes\")\n",
    "ax.set_ylabel(\"Accuracy Score\")\n",
    "ax.set_title(\"Effect on Accuracy Score from Adjusting Max Leaf Nodes\")\n",
    "ax.set_ylim(0.3,0.8)"
   ]
  },
  {
   "cell_type": "markdown",
   "metadata": {},
   "source": [
    "### Some basic parameter tuning"
   ]
  },
  {
   "cell_type": "code",
   "execution_count": 55,
   "metadata": {},
   "outputs": [
    {
     "name": "stdout",
     "output_type": "stream",
     "text": [
      "{'max_leaf_nodes': 46}\n",
      "{'max_leaf_nodes': 30}\n",
      "{'max_leaf_nodes': 94}\n",
      "{'max_leaf_nodes': 21}\n",
      "{'max_leaf_nodes': 20}\n",
      "{'max_leaf_nodes': 98}\n",
      "{'max_leaf_nodes': 74}\n",
      "{'max_leaf_nodes': 43}\n",
      "{'max_leaf_nodes': 27}\n",
      "{'max_leaf_nodes': 47}\n",
      "Mean of out of sample accuracy score: 0.6307692307692309\n",
      "Mean of GridSearch max_leaf_node best param: 50.0\n"
     ]
    }
   ],
   "source": [
    "#run a grid search CV to get an ideal number of max_leaf_nodes\n",
    "from sklearn.model_selection import GridSearchCV\n",
    "\n",
    "#initialize a list of values to iterate over for max leaf and an empty list for scores and params\n",
    "\n",
    "num_leafs = [x for x in range(2,100)]\n",
    "param_grid = [{'max_leaf_nodes':num_leafs}]\n",
    "cv_scores = []\n",
    "param_values = []\n",
    "\n",
    "for i in range(10):\n",
    "    dt = DecisionTreeClassifier()\n",
    "    gs = GridSearchCV(estimator=dt, param_grid=param_grid, scoring='accuracy', cv=10)\n",
    "    gs_d =gs.fit(X_train,y_train)\n",
    "    print(gs_d.best_params_)\n",
    "    param_values.append(gs_d.best_params_['max_leaf_nodes'])\n",
    "    cv_scores.append(accuracy_score(y_test,gs_d.predict(X_test)))\n",
    "\n",
    "print(\"Mean of out of sample accuracy score: {}\".format(np.mean(cv_scores)))\n",
    "print(\"Mean of GridSearch max_leaf_node best param: {}\".format(np.mean(param_values)))"
   ]
  },
  {
   "cell_type": "code",
   "execution_count": 56,
   "metadata": {},
   "outputs": [
    {
     "name": "stdout",
     "output_type": "stream",
     "text": [
      "In sample Accuracy Score: 1.0\n",
      "Out of Sample Accuracy Score: 0.5897435897435898\n"
     ]
    }
   ],
   "source": [
    "#set initial model to the average max_leaf_nodes from the grid search\n",
    "dtc.set_params(max_leaf_nodes=50)\n",
    "\n",
    "#fit the classifier to the test data and report accuracy of the predictions\n",
    "dtc.fit(X_train,y_train)\n",
    "y_preds = dtc.predict(X_test)\n",
    "print(\"In sample Accuracy Score: {}\".format(dtc.score(X_train,y_train)))\n",
    "print(\"Out of Sample Accuracy Score: {}\".format(accuracy_score(y_test,y_preds)))"
   ]
  },
  {
   "cell_type": "markdown",
   "metadata": {},
   "source": [
    "### Random Forest Approach"
   ]
  },
  {
   "cell_type": "code",
   "execution_count": 69,
   "metadata": {},
   "outputs": [],
   "source": [
    "#initialize the random forest \n",
    "rfc = RandomForestClassifier(n_estimators=30)"
   ]
  },
  {
   "cell_type": "code",
   "execution_count": 71,
   "metadata": {},
   "outputs": [
    {
     "name": "stdout",
     "output_type": "stream",
     "text": [
      "In-sample accuracy score: 1.0\n",
      "Out of Sample accuracy score: 0.5384615384615384\n"
     ]
    }
   ],
   "source": [
    "#fit model and report accuracy\n",
    "rfc.fit(X_train,y_train)\n",
    "\n",
    "print(\"In-sample accuracy score: {}\".format(rfc.score(X_train,y_train)))\n",
    "print(\"Out of Sample accuracy score: {}\".format(accuracy_score(y_test,rfc.predict(X_test))))"
   ]
  },
  {
   "cell_type": "code",
   "execution_count": 72,
   "metadata": {},
   "outputs": [
    {
     "name": "stdout",
     "output_type": "stream",
     "text": [
      "{'n_estimators': 127}\n",
      "{'n_estimators': 47}\n",
      "{'n_estimators': 47}\n",
      "{'n_estimators': 47}\n",
      "{'n_estimators': 17}\n",
      "{'n_estimators': 22}\n",
      "{'n_estimators': 62}\n",
      "{'n_estimators': 22}\n",
      "{'n_estimators': 17}\n",
      "{'n_estimators': 47}\n",
      "Mean of out of sample accuracy score: 0.5615384615384615\n",
      "Mean of GridSearch number of estimators best param: 45.5\n"
     ]
    }
   ],
   "source": [
    "#initialize a list of values to iterate over\n",
    "\n",
    "num_estimators = [x for x in range(2,200,5)]\n",
    "param_grid = [{'n_estimators':num_estimators}]\n",
    "cv_scores = []\n",
    "param_values = []\n",
    "\n",
    "for i in range(10):\n",
    "    dt = RandomForestClassifier()\n",
    "    gs = GridSearchCV(estimator=dt, param_grid=param_grid, scoring='accuracy', cv=10)\n",
    "    gs_d =gs.fit(X_train,y_train)\n",
    "    print(gs_d.best_params_)\n",
    "    param_values.append(gs_d.best_params_['n_estimators'])\n",
    "    cv_scores.append(accuracy_score(y_test,gs_d.predict(X_test)))\n",
    "\n",
    "print(\"Mean of out of sample accuracy score: {}\".format(np.mean(cv_scores)))\n",
    "print(\"Mean of GridSearch number of estimators best param: {}\".format(np.mean(param_values)))"
   ]
  },
  {
   "cell_type": "code",
   "execution_count": 78,
   "metadata": {},
   "outputs": [
    {
     "name": "stdout",
     "output_type": "stream",
     "text": [
      "the accuracy score of the model on the test set is: 0.5128205128205128\n"
     ]
    }
   ],
   "source": [
    "#take the best parameters from the grid search and set up a new model and report the out of sample accuracy\n",
    "#setting estimators to 45, which was average result from the grid search\n",
    "\n",
    "rfc.set_params(n_estimators=45)\n",
    "\n",
    "#fit the classifier to the test data and report accuracy of the predictions\n",
    "rfc.fit(X_train,y_train)\n",
    "y_preds = rfc.predict(X_test)\n",
    "print(\"the accuracy score of the model on the test set is: {}\".format(rfc.score(X_test,y_test)))"
   ]
  },
  {
   "cell_type": "markdown",
   "metadata": {
    "collapsed": true
   },
   "source": [
    "The accuracy of the decision tree and random forest models are similar for this problem. After gridsearchCV and hyperparameter tuning the decision tree model performs better, with an out of sample accuracy of ~0.59 whereas the random forest only achieved an accuracy score of 0.51. In general, we would expect an ensemble learning method such as the Random Forest to outperform the decision tree model, but there could be a number of reasons why this isn't the case for this specific problem:\n",
    "\n",
    "- Number of Features: There are only 14 features in our model which isn't a large number to sub-divide on, which may limit the benefit of using an ensemble method.\n",
    "- Total Sample Size: Since there are only 130 countries in our data set to classify, there may not be significnat benefits from bootstrapping (which occurs with the random forest model)\n",
    "- Estimator Correlation: If there is correlation between our estimators, e.g. our trees, there may not be significant benefits from using an ensemble method. The reduction in mean squared error is muted because \n",
    "\n",
    "In terms of interpretability, the random forest model is an ensemble learning method, which is inevitably more difficult to interpret than the decision tree model, which can be broken down into a set of human interpretable rules. Given that we get a similar accuracy from the decision tree model but there is higher interpretability, it is likely a better choice for this problem."
   ]
  }
 ],
 "metadata": {
  "anaconda-cloud": {},
  "celltoolbar": "Raw Cell Format",
  "kernelspec": {
   "display_name": "deeplearn",
   "language": "python",
   "name": "deeplearn"
  },
  "language_info": {
   "codemirror_mode": {
    "name": "ipython",
    "version": 3
   },
   "file_extension": ".py",
   "mimetype": "text/x-python",
   "name": "python",
   "nbconvert_exporter": "python",
   "pygments_lexer": "ipython3",
   "version": "3.5.6"
  }
 },
 "nbformat": 4,
 "nbformat_minor": 2
}
